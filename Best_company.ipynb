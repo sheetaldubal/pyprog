{
 "cells": [
  {
   "cell_type": "code",
   "execution_count": null,
   "id": "4d0de08c-5ed2-4bb0-9996-6898df207c32",
   "metadata": {},
   "outputs": [],
   "source": [
    "# import pandas library\n",
    "import pandas as pd\n",
    "\n",
    "# Create dataframe\n",
    "df=pd.read_csv(\"Data.csv\")\n",
    "\n",
    "# Display Data\n",
    "#print(df)\n",
    "\n",
    "# To display information about the best company in a sector based on ROCE\n",
    "print(\"The best company in a sector based on ROCE:\")\n",
    "print(df.loc[df['ROCE'].idxmax()])\n",
    "print(\" \")\n",
    "\n",
    "# To display information about the best company in a sector based on income growth\n",
    "print(\"The best company in a sector based on income growth:\")\n",
    "print(df.loc[df['Net_Profit'].idxmax()])\n",
    "print(\" \")\n",
    "\n",
    "# To display information about the best company in a sector based on sales growth\n",
    "print(\"The best company in a sector based on sales growth:\")\n",
    "print(df.loc[df['Net_Sales'].idxmax()])\n",
    "print(\" \")\n",
    "\n",
    "# To display information about the best company in a sector based on Debt/Equity ratio\n",
    "print(\"The best company in a sector based on Debt/Equity ratio:\")\n",
    "print(df.loc[df['Debt/Equity_Ratio'].idxmax()])\n"
   ]
  }
 ],
 "metadata": {
  "kernelspec": {
   "display_name": "Python 3 (ipykernel)",
   "language": "python",
   "name": "python3"
  },
  "language_info": {
   "codemirror_mode": {
    "name": "ipython",
    "version": 3
   },
   "file_extension": ".py",
   "mimetype": "text/x-python",
   "name": "python",
   "nbconvert_exporter": "python",
   "pygments_lexer": "ipython3",
   "version": "3.9.7"
  }
 },
 "nbformat": 4,
 "nbformat_minor": 5
}
